{
 "cells": [
  {
   "cell_type": "markdown",
   "id": "63a5bb2e",
   "metadata": {},
   "source": [
    "# 問題\n",
    "与えられた文字列の各文字を、以下の仕様で変換する関数cipherを実装せよ。\n",
    "\n",
    "- 英小文字ならば (219 - 文字コード) のASCIIコードに対応する文字に置換\n",
    "\n",
    "- その他の文字はそのまま出力\n",
    "\n",
    "この関数を用い、英語のメッセージを暗号化・復号化せよ。"
   ]
  },
  {
   "cell_type": "code",
   "execution_count": 15,
   "id": "2b24eaf5",
   "metadata": {},
   "outputs": [],
   "source": [
    "# 英小文字の判定\n",
    "def is_lowercase_alphabet(text):\n",
    "  return text.isalpha() and text.islower()"
   ]
  },
  {
   "cell_type": "code",
   "execution_count": 24,
   "id": "d3159bf4",
   "metadata": {},
   "outputs": [],
   "source": [
    "def cipher(text):\n",
    "  char_list=[]\n",
    "  for char in text:\n",
    "    if is_lowercase_alphabet(char):\n",
    "      char_list.append(chr(219-ord(char)))\n",
    "    else:\n",
    "      char_list.append(char)\n",
    "  sentence = \"\".join(char_list)\n",
    "  return sentence\n",
    "  "
   ]
  },
  {
   "cell_type": "code",
   "execution_count": 25,
   "id": "04baf14f",
   "metadata": {},
   "outputs": [
    {
     "name": "stdout",
     "output_type": "stream",
     "text": [
      "Original : Hello World!\n",
      "Encrypted: Hvool Wliow!\n",
      "Decrypted: Hello World!\n"
     ]
    }
   ],
   "source": [
    "# 動作確認\n",
    "original = \"Hello World!\"\n",
    "encrypted = cipher(original)\n",
    "decrypted = cipher(encrypted)\n",
    "\n",
    "print(\"Original :\", original)\n",
    "print(\"Encrypted:\", encrypted)\n",
    "print(\"Decrypted:\", decrypted)"
   ]
  }
 ],
 "metadata": {
  "kernelspec": {
   "display_name": "base",
   "language": "python",
   "name": "python3"
  },
  "language_info": {
   "codemirror_mode": {
    "name": "ipython",
    "version": 3
   },
   "file_extension": ".py",
   "mimetype": "text/x-python",
   "name": "python",
   "nbconvert_exporter": "python",
   "pygments_lexer": "ipython3",
   "version": "3.11.11"
  }
 },
 "nbformat": 4,
 "nbformat_minor": 5
}
