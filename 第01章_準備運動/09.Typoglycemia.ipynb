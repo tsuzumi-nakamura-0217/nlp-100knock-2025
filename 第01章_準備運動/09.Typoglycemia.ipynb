{
 "cells": [
  {
   "cell_type": "markdown",
   "id": "d3dc7d94",
   "metadata": {},
   "source": [
    "# 問題\n",
    "スペースで区切られた単語列に対して、各単語の先頭と末尾の文字は残し、それ以外の文字の順序をランダムに並び替えるプログラムを作成せよ。\n",
    "ただし、長さが４以下の単語は並び替えないこととする。\n",
    "適当な英語の文（例えば”I couldn’t believe that I could actually understand what I was reading : the phenomenal power of the human mind .”）を与え、その実行結果を確認せよ。"
   ]
  },
  {
   "cell_type": "code",
   "execution_count": 17,
   "id": "ec0d2bfd",
   "metadata": {},
   "outputs": [],
   "source": [
    "# 4文字以上ならTrueの関数\n",
    "def word_count4(word):\n",
    "  return len(word) >= 4\n",
    "\n",
    "# スペースで単語を区切る関数\n",
    "import random\n",
    "def shuffle(text):\n",
    "  words = text.split()\n",
    "  list_shuffled = []\n",
    "  for word in words:\n",
    "    if word_count4(word):\n",
    "      word_mid = list(word[1:-1])\n",
    "      random.shuffle(word_mid)\n",
    "      shuffled_word_mid = \"\".join(word_mid)\n",
    "      word_shuffled = f\"{word[0]}{shuffled_word_mid}{word[-1]}\"\n",
    "      list_shuffled.append(word_shuffled)\n",
    "    else:\n",
    "      list_shuffled.append(word)\n",
    "  result = \" \".join(list_shuffled)\n",
    "  return result"
   ]
  },
  {
   "cell_type": "code",
   "execution_count": 20,
   "id": "69a2c553",
   "metadata": {},
   "outputs": [
    {
     "data": {
      "text/plain": [
       "'I c’uodnlt bleveie taht I colud altacluy uaesdnntrd what I was rneaidg : the pheomeannl pweor of the hmaun mnid .'"
      ]
     },
     "execution_count": 20,
     "metadata": {},
     "output_type": "execute_result"
    }
   ],
   "source": [
    "text = \"I couldn’t believe that I could actually understand what I was reading : the phenomenal power of the human mind .\"\n",
    "shuffle(text)"
   ]
  }
 ],
 "metadata": {
  "kernelspec": {
   "display_name": "base",
   "language": "python",
   "name": "python3"
  },
  "language_info": {
   "codemirror_mode": {
    "name": "ipython",
    "version": 3
   },
   "file_extension": ".py",
   "mimetype": "text/x-python",
   "name": "python",
   "nbconvert_exporter": "python",
   "pygments_lexer": "ipython3",
   "version": "3.11.11"
  }
 },
 "nbformat": 4,
 "nbformat_minor": 5
}
