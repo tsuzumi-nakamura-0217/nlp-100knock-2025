{
 "cells": [
  {
   "cell_type": "markdown",
   "id": "b30c38d5-d696-461e-9c75-6514e3dcd47f",
   "metadata": {},
   "source": [
    "# 問題\n",
    "文字列「パタトクカシーー」の2, 4, 6, 8文字目を取り出し、それらを連結した文字列を得よ。"
   ]
  },
  {
   "cell_type": "code",
   "execution_count": 1,
   "id": "58e5c2b6-1101-4cbe-91b2-346f621b2f65",
   "metadata": {},
   "outputs": [
    {
     "data": {
      "text/plain": [
       "['パ', 'タ', 'ト', 'ク', 'カ', 'シ', 'ー', 'ー']"
      ]
     },
     "execution_count": 1,
     "metadata": {},
     "output_type": "execute_result"
    }
   ],
   "source": [
    "sentence = \"パタトクカシーー\"\n",
    "splited = list(sentence)\n",
    "splited"
   ]
  },
  {
   "cell_type": "code",
   "execution_count": 8,
   "id": "647e444a-ae61-44df-8d28-f2d2fc1af542",
   "metadata": {},
   "outputs": [
    {
     "data": {
      "text/plain": [
       "['タ', 'ク', 'シ', 'ー']"
      ]
     },
     "execution_count": 8,
     "metadata": {},
     "output_type": "execute_result"
    }
   ],
   "source": [
    "even_sentence = []\n",
    "for i in range(len(splited)):\n",
    "    if i%2 != 0:\n",
    "        even_sentence.append(splited[i])\n",
    "even_sentence"
   ]
  },
  {
   "cell_type": "code",
   "execution_count": 9,
   "id": "e448cfb3-9462-4595-b5f0-2e3efe62468b",
   "metadata": {},
   "outputs": [
    {
     "data": {
      "text/plain": [
       "'タクシー'"
      ]
     },
     "execution_count": 9,
     "metadata": {},
     "output_type": "execute_result"
    }
   ],
   "source": [
    "answer = \"\".join(even_sentence)\n",
    "answer"
   ]
  },
  {
   "cell_type": "code",
   "execution_count": null,
   "id": "6af6202a-b4c7-4cc2-9559-3868a56e1ed3",
   "metadata": {},
   "outputs": [],
   "source": []
  }
 ],
 "metadata": {
  "kernelspec": {
   "display_name": "Python 3 (ipykernel)",
   "language": "python",
   "name": "python3"
  },
  "language_info": {
   "codemirror_mode": {
    "name": "ipython",
    "version": 3
   },
   "file_extension": ".py",
   "mimetype": "text/x-python",
   "name": "python",
   "nbconvert_exporter": "python",
   "pygments_lexer": "ipython3",
   "version": "3.11.11"
  }
 },
 "nbformat": 4,
 "nbformat_minor": 5
}
