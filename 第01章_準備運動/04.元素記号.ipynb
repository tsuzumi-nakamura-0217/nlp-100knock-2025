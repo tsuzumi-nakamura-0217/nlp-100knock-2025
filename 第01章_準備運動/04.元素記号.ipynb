{
 "cells": [
  {
   "cell_type": "markdown",
   "id": "227d6645-5222-4fce-84bd-2cb7aae574e5",
   "metadata": {},
   "source": [
    "# 問題\n",
    "“Hi He Lied Because Boron Could Not Oxidize Fluorine. New Nations Might Also Sign Peace Security Clause. Arthur King Can.”という文を単語に分解し、1, 5, 6, 7, 8, 9, 15, 16, 19番目の単語は先頭の1文字、それ以外の単語は先頭の2文字を取り出し、取り出した文字列から単語の位置（先頭から何番目の単語か）への連想配列（辞書型もしくはマップ型）を作成せよ。"
   ]
  },
  {
   "cell_type": "code",
   "execution_count": 1,
   "id": "c9600e2e-b630-4459-9dcf-c3f5d15c011a",
   "metadata": {},
   "outputs": [
    {
     "data": {
      "text/plain": [
       "'Hi He Lied Because Boron Could Not Oxidize Fluorine New Nations Might Also Sign Peace Security Clause Arthur King Can'"
      ]
     },
     "execution_count": 1,
     "metadata": {},
     "output_type": "execute_result"
    }
   ],
   "source": [
    "sentence = \"Hi He Lied Because Boron Could Not Oxidize Fluorine. New Nations Might Also Sign Peace Security Clause. Arthur King Can.\"\n",
    "import re\n",
    "sentence_removed = re.sub(r\"[,.]\", \"\", sentence)\n",
    "sentence_removed"
   ]
  },
  {
   "cell_type": "code",
   "execution_count": 2,
   "id": "accc04e9-3dc7-4d3d-9552-f953ca15799d",
   "metadata": {},
   "outputs": [
    {
     "data": {
      "text/plain": [
       "['Hi',\n",
       " 'He',\n",
       " 'Lied',\n",
       " 'Because',\n",
       " 'Boron',\n",
       " 'Could',\n",
       " 'Not',\n",
       " 'Oxidize',\n",
       " 'Fluorine',\n",
       " 'New',\n",
       " 'Nations',\n",
       " 'Might',\n",
       " 'Also',\n",
       " 'Sign',\n",
       " 'Peace',\n",
       " 'Security',\n",
       " 'Clause',\n",
       " 'Arthur',\n",
       " 'King',\n",
       " 'Can']"
      ]
     },
     "execution_count": 2,
     "metadata": {},
     "output_type": "execute_result"
    }
   ],
   "source": [
    "word_list = sentence_removed.split()\n",
    "word_list"
   ]
  },
  {
   "cell_type": "code",
   "execution_count": 9,
   "id": "83c02027-d7d4-4612-9539-80577f042da6",
   "metadata": {},
   "outputs": [
    {
     "data": {
      "text/plain": [
       "{0: 'H',\n",
       " 1: 'e',\n",
       " 2: 'i',\n",
       " 3: 'e',\n",
       " 4: 'B',\n",
       " 5: 'C',\n",
       " 6: 'N',\n",
       " 7: 'O',\n",
       " 8: 'F',\n",
       " 9: 'e',\n",
       " 10: 'a',\n",
       " 11: 'i',\n",
       " 12: 'l',\n",
       " 13: 'i',\n",
       " 14: 'P',\n",
       " 15: 'S',\n",
       " 16: 'l',\n",
       " 17: 'r',\n",
       " 18: 'K',\n",
       " 19: 'a'}"
      ]
     },
     "execution_count": 9,
     "metadata": {},
     "output_type": "execute_result"
    }
   ],
   "source": [
    "result = {}\n",
    "for i in range(len(word_list)):\n",
    "    word = word_list[i]\n",
    "    if i in [0, 4, 5, 6, 7, 8, 14, 15, 18]:\n",
    "        result[i] = word[0]\n",
    "    else:\n",
    "        result[i] = word[1]\n",
    "result"
   ]
  },
  {
   "cell_type": "code",
   "execution_count": null,
   "id": "5d331e24-b355-4544-88ed-4fd8939269f6",
   "metadata": {},
   "outputs": [],
   "source": []
  }
 ],
 "metadata": {
  "kernelspec": {
   "display_name": "Python 3 (ipykernel)",
   "language": "python",
   "name": "python3"
  },
  "language_info": {
   "codemirror_mode": {
    "name": "ipython",
    "version": 3
   },
   "file_extension": ".py",
   "mimetype": "text/x-python",
   "name": "python",
   "nbconvert_exporter": "python",
   "pygments_lexer": "ipython3",
   "version": "3.11.11"
  }
 },
 "nbformat": 4,
 "nbformat_minor": 5
}
