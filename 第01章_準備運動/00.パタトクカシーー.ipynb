{
 "cells": [
  {
   "cell_type": "markdown",
   "id": "814361f4-055c-4cab-83e5-2ab433e4785a",
   "metadata": {},
   "source": [
    "# 問題\n",
    "2つの文字列「パトカー」と「タクシー」の文字を先頭から交互に連結し、文字列「パタトクカシーー」を得よ。"
   ]
  },
  {
   "cell_type": "code",
   "execution_count": 1,
   "id": "e5b8cd2c-af9a-483d-91fe-188744fcb46c",
   "metadata": {},
   "outputs": [
    {
     "name": "stdout",
     "output_type": "stream",
     "text": [
      "a_split: ['パ', 'ト', 'カ', 'ー']\n",
      "b_split: ['タ', 'ク', 'シ', 'ー']\n"
     ]
    }
   ],
   "source": [
    "a = \"パトカー\"\n",
    "b = \"タクシー\"\n",
    "a_split = list(a)\n",
    "b_split = list(b)\n",
    "print(\"a_split:\",a_split)\n",
    "print(\"b_split:\",b_split)"
   ]
  },
  {
   "cell_type": "code",
   "execution_count": 8,
   "id": "2e13b62c-8d03-40a8-9107-bae8aba4d5bb",
   "metadata": {},
   "outputs": [
    {
     "data": {
      "text/plain": [
       "['パ', 'タ', 'ト', 'ク', 'カ', 'シ', 'ー', 'ー']"
      ]
     },
     "execution_count": 8,
     "metadata": {},
     "output_type": "execute_result"
    }
   ],
   "source": [
    "result = []\n",
    "for i in range(len(a_split)):\n",
    "    result.append(a_split[i])\n",
    "    result.append(b_split[i])\n",
    "result"
   ]
  },
  {
   "cell_type": "code",
   "execution_count": 9,
   "id": "56412531-e98e-4b40-a5f2-b51c79b0cd3f",
   "metadata": {},
   "outputs": [
    {
     "data": {
      "text/plain": [
       "'パタトクカシーー'"
      ]
     },
     "execution_count": 9,
     "metadata": {},
     "output_type": "execute_result"
    }
   ],
   "source": [
    "answer = \"\".join(result)\n",
    "answer"
   ]
  }
 ],
 "metadata": {
  "kernelspec": {
   "display_name": "Python 3 (ipykernel)",
   "language": "python",
   "name": "python3"
  },
  "language_info": {
   "codemirror_mode": {
    "name": "ipython",
    "version": 3
   },
   "file_extension": ".py",
   "mimetype": "text/x-python",
   "name": "python",
   "nbconvert_exporter": "python",
   "pygments_lexer": "ipython3",
   "version": "3.11.11"
  }
 },
 "nbformat": 4,
 "nbformat_minor": 5
}
