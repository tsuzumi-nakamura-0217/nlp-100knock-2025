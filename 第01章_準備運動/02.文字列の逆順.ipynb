{
 "cells": [
  {
   "cell_type": "markdown",
   "id": "646e4435-753c-4215-bb63-d7302adee804",
   "metadata": {},
   "source": [
    "# 問題\n",
    "文字列”stressed”の文字を逆に（末尾から先頭に向かって）並べた文字列を得よ。"
   ]
  },
  {
   "cell_type": "code",
   "execution_count": 10,
   "id": "bdb9ab22-cfed-40ed-a525-c4ba33af24b7",
   "metadata": {},
   "outputs": [
    {
     "data": {
      "text/plain": [
       "['s', 't', 'r', 'e', 's', 's', 'e', 'd']"
      ]
     },
     "execution_count": 10,
     "metadata": {},
     "output_type": "execute_result"
    }
   ],
   "source": [
    "sentence = \"stressed\"\n",
    "sprited = list(sentence)\n",
    "sprited"
   ]
  },
  {
   "cell_type": "code",
   "execution_count": 11,
   "id": "6deac346-b65a-49ba-8fa8-f9039ff270b5",
   "metadata": {},
   "outputs": [
    {
     "data": {
      "text/plain": [
       "['d', 'e', 's', 's', 'e', 'r', 't', 's']"
      ]
     },
     "execution_count": 11,
     "metadata": {},
     "output_type": "execute_result"
    }
   ],
   "source": [
    "sprited.reverse()\n",
    "sprited"
   ]
  },
  {
   "cell_type": "code",
   "execution_count": 14,
   "id": "4402b00c-c800-46cb-b76a-4f67c1649970",
   "metadata": {},
   "outputs": [
    {
     "data": {
      "text/plain": [
       "'desserts'"
      ]
     },
     "execution_count": 14,
     "metadata": {},
     "output_type": "execute_result"
    }
   ],
   "source": [
    "answer = \"\".join(sprited)\n",
    "answer"
   ]
  },
  {
   "cell_type": "code",
   "execution_count": null,
   "id": "07189380-634d-4281-ab44-c2583cb57692",
   "metadata": {},
   "outputs": [],
   "source": []
  }
 ],
 "metadata": {
  "kernelspec": {
   "display_name": "Python 3 (ipykernel)",
   "language": "python",
   "name": "python3"
  },
  "language_info": {
   "codemirror_mode": {
    "name": "ipython",
    "version": 3
   },
   "file_extension": ".py",
   "mimetype": "text/x-python",
   "name": "python",
   "nbconvert_exporter": "python",
   "pygments_lexer": "ipython3",
   "version": "3.11.11"
  }
 },
 "nbformat": 4,
 "nbformat_minor": 5
}
