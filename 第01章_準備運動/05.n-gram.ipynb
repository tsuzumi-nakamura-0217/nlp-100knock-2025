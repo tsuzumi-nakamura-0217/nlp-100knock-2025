{
 "cells": [
  {
   "cell_type": "markdown",
   "id": "91ce2bee",
   "metadata": {},
   "source": [
    "# 問題\n",
    "与えられたシーケンス（文字列やリストなど）からn-gramを作る関数を作成せよ。この関数を用い、”I am an NLPer”という文から文字tri-gram、単語bi-gramを得よ。"
   ]
  },
  {
   "cell_type": "markdown",
   "id": "261adb39",
   "metadata": {},
   "source": [
    "# n-gramとは\n",
    "n-gram（エヌグラム）は、文章や単語列を「n個」連続したまとまりに分けたものです。\n",
    "文章を機械的に分析するときによく使われます。\n",
    "\n",
    "例：\n",
    "文章：「私は学生です」\n",
    "\n",
    "1-gram（unigram）：1つずつ\n",
    "→ 「私」, 「は」, 「学」, 「生」, 「で」, 「す」\n",
    "\n",
    "2-gram（bigram）：2つずつ連続\n",
    "→ 「私は」, 「は学」, 「学生」, 「生で」, 「です」\n",
    "\n",
    "3-gram（trigram）：3つずつ連続\n",
    "→ 「私は学」, 「は学生」, 「学生で」, 「生です」\n",
    "\n",
    "ポイント\n",
    "nの値を変えることで、連続する単語や文字の関係を捉える粒度が変わる\n",
    "自然言語処理（NLP）で、文章の特徴抽出や予測モデル（次の単語予測など）に使われる"
   ]
  },
  {
   "cell_type": "code",
   "execution_count": null,
   "id": "8b376886",
   "metadata": {},
   "outputs": [
    {
     "name": "stdout",
     "output_type": "stream",
     "text": [
      "['I', 'am']\n",
      "['am', 'an']\n",
      "['an', 'NLPer']\n"
     ]
    }
   ],
   "source": [
    "def ngram(text, n):\n",
    "  word_list = text.split()\n",
    "  count = len(word_list) + 1 - n\n",
    "  for word in range(count):\n",
    "    gram = word_list[word:word+n]\n",
    "    print(gram)\n",
    "\n",
    "text = \"I am an NLPer\"\n",
    "n = 2\n",
    "ngram(text,n)"
   ]
  }
 ],
 "metadata": {
  "kernelspec": {
   "display_name": "base",
   "language": "python",
   "name": "python3"
  },
  "language_info": {
   "codemirror_mode": {
    "name": "ipython",
    "version": 3
   },
   "file_extension": ".py",
   "mimetype": "text/x-python",
   "name": "python",
   "nbconvert_exporter": "python",
   "pygments_lexer": "ipython3",
   "version": "3.11.11"
  }
 },
 "nbformat": 4,
 "nbformat_minor": 5
}
