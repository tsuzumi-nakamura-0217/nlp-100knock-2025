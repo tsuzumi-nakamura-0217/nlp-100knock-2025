{
 "cells": [
  {
   "cell_type": "markdown",
   "id": "a9f81ea2",
   "metadata": {},
   "source": [
    "# 問題\n",
    "“paraparaparadise”と”paragraph”に含まれる文字bi-gramの集合を、それぞれ, xとyとして求め、xとyの和集合、積集合、差集合を求めよ。\n",
    "さらに、’se’というbi-gramがXおよびYに含まれるかどうかを調べよ。"
   ]
  },
  {
   "cell_type": "code",
   "execution_count": 26,
   "id": "f934d7c7",
   "metadata": {},
   "outputs": [],
   "source": [
    "# ngram_w関数\n",
    "def ngram_w(text, n):\n",
    "  count = len(text) + 1 - n\n",
    "  gram_list = []\n",
    "  for i in range(count):\n",
    "    gram = text[i:i+n]\n",
    "    gram_list.append(gram)\n",
    "  return gram_list"
   ]
  },
  {
   "cell_type": "code",
   "execution_count": 20,
   "id": "7aa44fa6",
   "metadata": {},
   "outputs": [
    {
     "data": {
      "text/plain": [
       "['pa',\n",
       " 'ar',\n",
       " 'ra',\n",
       " 'ap',\n",
       " 'pa',\n",
       " 'ar',\n",
       " 'ra',\n",
       " 'ap',\n",
       " 'pa',\n",
       " 'ar',\n",
       " 'ra',\n",
       " 'ad',\n",
       " 'di',\n",
       " 'is',\n",
       " 'se']"
      ]
     },
     "execution_count": 20,
     "metadata": {},
     "output_type": "execute_result"
    }
   ],
   "source": [
    "text1 = \"paraparaparadise\"\n",
    "text2 = \"paragraph\"\n",
    "n = 2\n",
    "text1_gramed = ngram_w(text1, n)\n",
    "text2_gramed = ngram_w(text2, n)\n",
    "text1_gramed"
   ]
  },
  {
   "cell_type": "code",
   "execution_count": null,
   "id": "8d03c8cb",
   "metadata": {},
   "outputs": [
    {
     "data": {
      "text/plain": [
       "{'ad', 'ag', 'ap', 'ar', 'di', 'gr', 'is', 'pa', 'ph', 'ra', 'se'}"
      ]
     },
     "execution_count": 22,
     "metadata": {},
     "output_type": "execute_result"
    }
   ],
   "source": [
    "set1 = set(text1_gramed)\n",
    "set2 = set(text2_gramed)\n",
    "\n",
    "union = set1 | set2         # 和集合\n",
    "intersection = set1 & set2  # 積集合\n",
    "difference = set1 - set2    # 差集合（set1からset2を引く）\n"
   ]
  },
  {
   "cell_type": "code",
   "execution_count": 25,
   "id": "811edd38",
   "metadata": {},
   "outputs": [
    {
     "name": "stdout",
     "output_type": "stream",
     "text": [
      "seを含みます\n",
      "None\n",
      "seを含まない\n",
      "None\n"
     ]
    }
   ],
   "source": [
    "def se(list):\n",
    "  if \"se\" in list:\n",
    "    print(\"seを含みます\")\n",
    "  else:\n",
    "    print(\"seを含まない\")\n",
    "print(se(text1_gramed))\n",
    "print(se(text2_gramed))"
   ]
  },
  {
   "cell_type": "code",
   "execution_count": 23,
   "id": "c40f66df",
   "metadata": {},
   "outputs": [
    {
     "ename": "KeyboardInterrupt",
     "evalue": "",
     "output_type": "error",
     "traceback": [
      "\u001b[0;31m---------------------------------------------------------------------------\u001b[0m",
      "\u001b[0;31mKeyboardInterrupt\u001b[0m                         Traceback (most recent call last)",
      "Cell \u001b[0;32mIn[23], line 7\u001b[0m\n\u001b[1;32m      5\u001b[0m     \u001b[38;5;28;01mpass\u001b[39;00m\n\u001b[1;32m      6\u001b[0m   \u001b[38;5;28;01melse\u001b[39;00m:\n\u001b[0;32m----> 7\u001b[0m     union\u001b[38;5;241m.\u001b[39mappend(word)\n\u001b[1;32m      8\u001b[0m union\n",
      "\u001b[0;31mKeyboardInterrupt\u001b[0m: "
     ]
    }
   ],
   "source": [
    "# 和集合\n",
    "union = text1_gramed\n",
    "for word in text1_gramed:\n",
    "  if word in text2_gramed:\n",
    "    pass\n",
    "  else:\n",
    "    union.append(word)\n",
    "union"
   ]
  }
 ],
 "metadata": {
  "kernelspec": {
   "display_name": "base",
   "language": "python",
   "name": "python3"
  },
  "language_info": {
   "codemirror_mode": {
    "name": "ipython",
    "version": 3
   },
   "file_extension": ".py",
   "mimetype": "text/x-python",
   "name": "python",
   "nbconvert_exporter": "python",
   "pygments_lexer": "ipython3",
   "version": "3.11.11"
  }
 },
 "nbformat": 4,
 "nbformat_minor": 5
}
