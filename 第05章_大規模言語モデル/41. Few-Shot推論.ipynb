{
 "cells": [
  {
   "cell_type": "markdown",
   "id": "c510ab1a",
   "metadata": {},
   "source": [
    "# 問題\n",
    "以下の問題と解答を与え、問題40で示した質問の解答をfew-shot推論（この場合は4-shot推論）で生成せよ。"
   ]
  },
  {
   "cell_type": "code",
   "execution_count": 2,
   "id": "f3b0c48a",
   "metadata": {},
   "outputs": [],
   "source": [
    "import cohere\n",
    "import os\n",
    "from dotenv import load_dotenv\n",
    "\n",
    "# 環境変数からAPIキーを読み込み\n",
    "load_dotenv()\n",
    "\n",
    "# Cohereクライアント初期化\n",
    "co = cohere.Client(os.environ[\"COHERE_API_KEY\"])\n",
    "\n",
    "# Few-shot\n",
    "EXAMPLES = [\n",
    "  (\"\"\"\n",
    "  江戸幕府の北方での対外的な緊張について述べた次の文ア～ウを年代の古い順に正しく並べよ。\n",
    "\n",
    "  ア　レザノフが長崎に来航したが，幕府が冷淡な対応をしたため，ロシア船が樺太や択捉島を攻撃した。\n",
    "  イ　ゴローウニンが国後島に上陸し，幕府の役人に捕らえられ抑留された。\n",
    "  ウ　ラクスマンが根室に来航し，漂流民を届けるとともに通商を求めた。\n",
    "  \"\"\", \"解答: ウ→ア→イ\"),\n",
    "  (\"\"\"\n",
    "  日本の近代化に関連するできごとについて述べた次のア～ウを年代の古い順に正しく並べよ。\n",
    "\n",
    "  ア　府知事・県令からなる地方官会議が設置された。\n",
    "  イ　廃藩置県が実施され，中央から府知事・県令が派遣される体制になった。\n",
    "  ウ　すべての藩主が，天皇に領地と領民を返還した。\n",
    "  \"\"\", \"解答: ウ→イ→ア\"),\n",
    "  (\"\"\"\n",
    "  中居屋重兵衛の生涯の期間におこったできごとについて述べた次のア～ウを，年代の古い順に正しく並べよ。\n",
    "\n",
    "  ア　アヘン戦争がおこり，清がイギリスに敗北した。\n",
    "  イ　異国船打払令が出され，外国船を撃退することが命じられた。\n",
    "  ウ　桜田門外の変がおこり，大老の井伊直弼が暗殺された。\n",
    "  \"\"\", \"解答: イ→ア→ウ\"), \n",
    "  (\"\"\"\n",
    "  加藤高明が外務大臣として提言を行ってから、内閣総理大臣となり演説を行うまでの時期のできごとについて述べた次のア～ウを，年代の古い順に正しく並べよ。\n",
    "\n",
    "  ア　朝鮮半島において，独立を求める大衆運動である三・一独立運動が展開された。\n",
    "  イ　関東大震災後の混乱のなかで，朝鮮人や中国人に対する殺傷事件がおきた。\n",
    "  ウ　日本政府が，袁世凱政府に対して二十一カ条の要求を突き付けた。\n",
    "  \"\"\", \"解答: ウ→ア→イ\")\n",
    "]\n",
    "\n",
    "def build_fewshot_prompt(user_text: str) -> str:\n",
    "    TASK_INSTRUCTION = \"次の問題を解きなさい。\"\n",
    "    lines = [TASK_INSTRUCTION, \"\", \"【例】\"]\n",
    "    for src, tgt in EXAMPLES:\n",
    "        lines += [f\"入力: {src}\", f\"出力: {tgt}\", \"\"]\n",
    "    lines += [\"【本問】\", f\"入力: {user_text}\", \"出力:\"]\n",
    "    return \"\\n\".join(lines)\n",
    "\n"
   ]
  },
  {
   "cell_type": "code",
   "execution_count": null,
   "id": "b9e703f3",
   "metadata": {},
   "outputs": [
    {
     "name": "stdout",
     "output_type": "stream",
     "text": [
      "解答:\n",
      "解答: イ→ウ→ア\n"
     ]
    }
   ],
   "source": [
    "text = \"\"\"\n",
    "9世紀に活躍した人物に関係するできごとについて述べた次のア～ウを年代の古い順に正しく並べよ。\n",
    "\n",
    "ア　藤原時平は，策謀を用いて菅原道真を政界から追放した。\n",
    "イ　嵯峨天皇は，藤原冬嗣らを蔵人頭に任命した。\n",
    "ウ　藤原良房は，承和の変後，藤原氏の中での北家の優位を確立した。\n",
    "\"\"\"\n",
    "prompt = build_fewshot_prompt(text)\n",
    "\n",
    "resp = co.chat(\n",
    "    model=\"command-r-plus-08-2024\",\n",
    "    message=prompt,          # ← messages ではなく message\n",
    "    temperature=0.2          # 任意：出力のばらつき\n",
    ")\n",
    "print(resp.text)"
   ]
  }
 ],
 "metadata": {
  "kernelspec": {
   "display_name": "cohere-py311",
   "language": "python",
   "name": "python3"
  },
  "language_info": {
   "codemirror_mode": {
    "name": "ipython",
    "version": 3
   },
   "file_extension": ".py",
   "mimetype": "text/x-python",
   "name": "python",
   "nbconvert_exporter": "python",
   "pygments_lexer": "ipython3",
   "version": "3.11.13"
  }
 },
 "nbformat": 4,
 "nbformat_minor": 5
}
