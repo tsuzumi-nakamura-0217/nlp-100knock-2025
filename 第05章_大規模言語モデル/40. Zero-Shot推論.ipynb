{
 "cells": [
  {
   "cell_type": "markdown",
   "id": "0f170e18",
   "metadata": {},
   "source": [
    "# 問題\n",
    "以下の問題の解答を作成せよ。ただし、解答生成はzero-shot推論とせよ。\n",
    "\n",
    "9世紀に活躍した人物に関係するできごとについて述べた次のア～ウを年代の古い順に正しく並べよ。\n",
    "\n",
    "ア　藤原時平は，策謀を用いて菅原道真を政界から追放した。<br>\n",
    "イ　嵯峨天皇は，藤原冬嗣らを蔵人頭に任命した。<br>\n",
    "ウ　藤原良房は，承和の変後，藤原氏の中での北家の優位を確立した。"
   ]
  },
  {
   "cell_type": "code",
   "execution_count": 4,
   "id": "15091a15",
   "metadata": {},
   "outputs": [
    {
     "name": "stdout",
     "output_type": "stream",
     "text": [
      "解答:\n",
      "年代の古い順に並べると、以下のようになります。\n",
      "\n",
      "イ：嵯峨天皇が藤原冬嗣らを蔵人頭に任命した出来事は、812年（弘仁3年）に起こりました。\n",
      "\n",
      "ア：藤原時平が菅原道真を政界から追放したのは、901年（延喜元年）の出来事です。\n",
      "\n",
      "ウ：承和の変は842年（承和9年）に起こり、その後、藤原良房が藤原氏の中で北家の優位を確立しました。\n",
      "\n",
      "よって、正しい並びは、イ、ウ、アとなります。\n"
     ]
    }
   ],
   "source": [
    "import cohere\n",
    "import os\n",
    "from dotenv import load_dotenv\n",
    "\n",
    "# 環境変数からAPIキーを読み込み\n",
    "load_dotenv()\n",
    "\n",
    "# Cohereクライアント初期化\n",
    "co = cohere.Client(os.environ[\"COHERE_API_KEY\"])\n",
    "\n",
    "prompt = \"\"\"\n",
    "9世紀に活躍した人物に関係するできごとについて述べた次のア～ウを年代の古い順に正しく並べよ。\n",
    "\n",
    "ア　藤原時平は，策謀を用いて菅原道真を政界から追放した。\n",
    "イ　嵯峨天皇は，藤原冬嗣らを蔵人頭に任命した。\n",
    "ウ　藤原良房は，承和の変後，藤原氏の中での北家の優位を確立した。\n",
    "\"\"\"\n",
    "\n",
    "resp = co.chat(\n",
    "    model=\"command-r-plus-08-2024\",\n",
    "    message=prompt,          # ← messages ではなく message\n",
    "    temperature=0.2          # 任意：出力のばらつき\n",
    ")\n",
    "print(\"解答:\")\n",
    "print(resp.text)"
   ]
  }
 ],
 "metadata": {
  "kernelspec": {
   "display_name": "cohere-py311",
   "language": "python",
   "name": "python3"
  },
  "language_info": {
   "codemirror_mode": {
    "name": "ipython",
    "version": 3
   },
   "file_extension": ".py",
   "mimetype": "text/x-python",
   "name": "python",
   "nbconvert_exporter": "python",
   "pygments_lexer": "ipython3",
   "version": "3.11.13"
  }
 },
 "nbformat": 4,
 "nbformat_minor": 5
}
