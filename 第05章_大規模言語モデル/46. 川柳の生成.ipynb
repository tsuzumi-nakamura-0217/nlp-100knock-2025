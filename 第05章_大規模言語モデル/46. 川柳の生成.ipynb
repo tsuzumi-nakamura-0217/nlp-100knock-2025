{
 "cells": [
  {
   "cell_type": "markdown",
   "id": "d662066a",
   "metadata": {},
   "source": [
    "# 問題\n",
    "適当なお題を設定し、川柳の案を10個作成せよ。"
   ]
  },
  {
   "cell_type": "code",
   "execution_count": 1,
   "id": "eceda309",
   "metadata": {},
   "outputs": [
    {
     "name": "stdout",
     "output_type": "stream",
     "text": [
      "はい、お題「大学生」の川柳を10個作成しました。\n",
      "\n",
      "- 学びの 春風に舞う キャンパスよ\n",
      "- 自由の 翼広げて 青春の空へ\n",
      "- 深夜の 灯り燃ゆ 図書館\n",
      "- 友と笑い 語らい 思い出の数々\n",
      "- 講義の 眠気覚ます コーヒーの香り\n",
      "- 部活に燃え 汗と涙の グラウンド\n",
      "- 試験の 緊張走る 鉛筆の音\n",
      "- 一人暮らし 寂しさ紛らす 自炊の味\n",
      "- アルバイト 学費稼ぐ 汗の結晶\n",
      "- 卒業の 門出祝う 桜舞う\n"
     ]
    }
   ],
   "source": [
    "import cohere\n",
    "import os\n",
    "from dotenv import load_dotenv\n",
    "\n",
    "# 環境変数からAPIキーを読み込み\n",
    "load_dotenv()\n",
    "\n",
    "# Cohereクライアント初期化\n",
    "co = cohere.Client(os.environ[\"COHERE_API_KEY\"])\n",
    "\n",
    "\n",
    "prompt = \"川柳を10個作成してください。お題は「大学生」です。\"\n",
    "\n",
    "resp = co.chat(\n",
    "    model=\"command-r-plus-08-2024\",\n",
    "    message=prompt,          # ← messages ではなく message\n",
    "    temperature=0.5          # 任意：出力のばらつき\n",
    ")\n",
    "print(resp.text)"
   ]
  }
 ],
 "metadata": {
  "kernelspec": {
   "display_name": "cohere-py311",
   "language": "python",
   "name": "python3"
  },
  "language_info": {
   "codemirror_mode": {
    "name": "ipython",
    "version": 3
   },
   "file_extension": ".py",
   "mimetype": "text/x-python",
   "name": "python",
   "nbconvert_exporter": "python",
   "pygments_lexer": "ipython3",
   "version": "3.11.13"
  }
 },
 "nbformat": 4,
 "nbformat_minor": 5
}
