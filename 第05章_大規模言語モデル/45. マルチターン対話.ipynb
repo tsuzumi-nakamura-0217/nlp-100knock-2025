{
 "cells": [
  {
   "cell_type": "markdown",
   "id": "ab7330f8",
   "metadata": {},
   "source": [
    "# 問題\n",
    "先ほどの応答に続けて、以下の追加の問いかけに対する応答を生成せよ。"
   ]
  },
  {
   "cell_type": "code",
   "execution_count": 10,
   "id": "7eb17337",
   "metadata": {},
   "outputs": [
    {
     "name": "stdout",
     "output_type": "stream",
     "text": [
      "【質問1】\n",
      "目的地の駅を教えてください。\n",
      "\n",
      "【システムの回答】\n",
      "自由が丘駅から東急大井町線の大井町方面に乗り、次の急行停車駅は「二子玉川駅」です。そこで降りて、反対方向の電車で一駅戻ると、つばめちゃんの目的地は「自由が丘駅」となります。\n",
      "\n",
      "したがって、目的地の駅の名前は**自由が丘駅**です。\n",
      "\n",
      "【質問2】\n",
      "反対方向に乗った場合、何駅先で降りれば良いですか？\n",
      "\n",
      "【システムの回答】\n",
      "自由が丘駅から先ほどとは反対方向の急行電車に乗車した場合、次の急行停車駅は「中目黒駅」です。そこで降りて、反対方向の各駅停車に乗車すると、目的地の駅である自由が丘駅には2駅先となります。\n",
      "\n",
      "したがって、つばめちゃんは中目黒駅から2駅先、**自由が丘駅**で降りるべきです。\n"
     ]
    }
   ],
   "source": [
    "# pip install cohere python-dotenv\n",
    "\n",
    "import os\n",
    "from dotenv import load_dotenv\n",
    "import cohere\n",
    "\n",
    "# 環境変数からAPIキーを読み込む\n",
    "load_dotenv()\n",
    "api_key = os.getenv(\"COHERE_API_KEY\")\n",
    "assert api_key, \"環境変数 COHERE_API_KEY が設定されていません。\"\n",
    "\n",
    "# Cohereクライアント初期化\n",
    "co = cohere.Client(api_key)\n",
    "\n",
    "# 使用モデル（Cohereの汎用会話モデル）\n",
    "MODEL = \"command-r-plus-08-2024\"  # 例：高性能モデル。必要に応じて変更可\n",
    "\n",
    "# 会話履歴（マルチターン）\n",
    "# Cohereのchatでは 'USER' / 'CHATBOT' を使います\n",
    "chat_history = []\n",
    "\n",
    "def ask_cohere(message: str):\n",
    "    \"\"\"ユーザーの発話を渡して、Cohereの応答を取得し、履歴を更新する\"\"\"\n",
    "    global chat_history\n",
    "    resp = co.chat(\n",
    "        model=MODEL,\n",
    "        message=message,\n",
    "        chat_history=chat_history,  # これまでの履歴を渡す\n",
    "        temperature=0,            # 必要に応じて調整\n",
    "    )\n",
    "    # 画面表示用\n",
    "    print(resp.text)\n",
    "\n",
    "    # 履歴を更新（USER → CHATBOT）\n",
    "    chat_history.append({\"role\": \"USER\", \"message\": message})\n",
    "    chat_history.append({\"role\": \"CHATBOT\", \"message\": resp.text})\n",
    "\n",
    "# ----------------------------\n",
    "# 質問1\n",
    "# ----------------------------\n",
    "user_question1 = \"\"\"\n",
    "つばめちゃんは渋谷駅から東急東横線に乗り、自由が丘駅で乗り換えました。東急大井町線の大井町方面の電車に乗り換えたとき、各駅停車に乗車すべきところ、間違えて急行に乗車してしまったことに気付きました。自由が丘の次の急行停車駅で降車し、反対方向の電車で一駅戻った駅がつばめちゃんの目的地でした。目的地の駅の名前を答えてください。\n",
    "\"\"\"\n",
    "\n",
    "print(\"【質問1】\")\n",
    "print(\"目的地の駅を教えてください。\\n\")\n",
    "print(\"【システムの回答】\")\n",
    "ask_cohere(user_question1)\n",
    "\n",
    "# ----------------------------\n",
    "# 質問2（同じ会話として継続）\n",
    "# ----------------------------\n",
    "user_question2 = \"\"\"\n",
    "さらに、つばめちゃんが自由が丘駅で乗り換えたとき、先ほどとは反対方向の急行電車に間違って乗車してしまった場合を考えます。目的地の駅に向かうため、自由が丘の次の急行停車駅で降車した後、反対方向の各駅停車に乗車した場合、何駅先の駅で降りれば良いでしょうか？\n",
    "\"\"\"\n",
    "\n",
    "print(\"\\n【質問2】\")\n",
    "print(\"反対方向に乗った場合、何駅先で降りれば良いですか？\\n\")\n",
    "print(\"【システムの回答】\")\n",
    "ask_cohere(user_question2)"
   ]
  }
 ],
 "metadata": {
  "kernelspec": {
   "display_name": "cohere-py311",
   "language": "python",
   "name": "python3"
  },
  "language_info": {
   "codemirror_mode": {
    "name": "ipython",
    "version": 3
   },
   "file_extension": ".py",
   "mimetype": "text/x-python",
   "name": "python",
   "nbconvert_exporter": "python",
   "pygments_lexer": "ipython3",
   "version": "3.11.13"
  }
 },
 "nbformat": 4,
 "nbformat_minor": 5
}
