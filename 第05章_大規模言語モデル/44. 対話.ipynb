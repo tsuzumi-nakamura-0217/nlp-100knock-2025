{
 "cells": [
  {
   "cell_type": "markdown",
   "id": "bd5df92e",
   "metadata": {},
   "source": [
    "# 問題\n",
    "以下の問いかけに対する応答を生成せよ。"
   ]
  },
  {
   "cell_type": "code",
   "execution_count": 5,
   "id": "4fa2fb07",
   "metadata": {},
   "outputs": [
    {
     "name": "stdout",
     "output_type": "stream",
     "text": [
      "つばめちゃんの目的地の駅の名前は「緑が丘駅」です。\n",
      "\n",
      "自由が丘駅から東急大井町線に乗車し、次の急行停車駅は「大岡山駅」です。大岡山駅で反対方向の電車に乗り、一駅戻ると緑が丘駅に到着します。そのため、つばめちゃんが間違えて急行に乗車した後に目的の駅に戻ったのは、緑が丘駅ということになります。\n"
     ]
    }
   ],
   "source": [
    "import cohere\n",
    "import os\n",
    "from dotenv import load_dotenv\n",
    "\n",
    "# 環境変数からAPIキーを読み込み\n",
    "load_dotenv()\n",
    "\n",
    "# Cohereクライアント初期化\n",
    "co = cohere.Client(os.environ[\"COHERE_API_KEY\"])\n",
    "\n",
    "\n",
    "def build_prompt() :\n",
    "    TASK_INSTRUCTION = \"次の問いかけに対する応答を生成してください。\"\n",
    "    CHAT = \"つばめちゃんは渋谷駅から東急東横線に乗り、自由が丘駅で乗り換えました。東急大井町線の大井町方面の電車に乗り換えたとき、各駅停車に乗車すべきところ、間違えて急行に乗車してしまったことに気付きました。自由が丘の次の急行停車駅で降車し、反対方向の電車で一駅戻った駅がつばめちゃんの目的地でした。目的地の駅の名前を答えてください。\"\n",
    "    lines = [TASK_INSTRUCTION, \"\"]\n",
    "    lines += [\"【問いかけ】\", CHAT]\n",
    "    return \"\\n\".join(lines)\n",
    "\n",
    "prompt = build_prompt()\n",
    "\n",
    "resp = co.chat(\n",
    "    model=\"command-r-plus-08-2024\",\n",
    "    message=prompt,          # ← messages ではなく message\n",
    "    temperature=0.1          # 任意：出力のばらつき\n",
    ")\n",
    "print(resp.text)"
   ]
  },
  {
   "cell_type": "code",
   "execution_count": 3,
   "id": "1e652966",
   "metadata": {},
   "outputs": [
    {
     "data": {
      "text/plain": [
       "'次の問いかけに対する応答を生成してください。\\n\\n【問いかけ】\\nつばめちゃんは渋谷駅から東急東横線に乗り、自由が丘駅で乗り換えました。東急大井町線の大井町方面の電車に乗り換えたとき、各駅停車に乗車すべきところ、間違えて急行に乗車してしまったことに気付きました。自由が丘の次の急行停車駅で降車し、反対方向の電車で一駅戻った駅がつばめちゃんの目的地でした。目的地の駅の名前を答えてください。'"
      ]
     },
     "execution_count": 3,
     "metadata": {},
     "output_type": "execute_result"
    }
   ],
   "source": [
    "build_prompt() "
   ]
  },
  {
   "cell_type": "code",
   "execution_count": 6,
   "id": "e79d550c",
   "metadata": {},
   "outputs": [
    {
     "name": "stdout",
     "output_type": "stream",
     "text": [
      "つばめちゃんの目的地の駅の名前は、**大岡山駅**です。\n",
      "\n",
      "自由が丘駅から東急大井町線の大井町方面へ向かう急行は、次の駅として大岡山駅に停車します。そのため、つばめちゃんが間違えて急行に乗車した後、次の駅で降りて反対方向の電車で一駅戻ると、大岡山駅に到着したことになります。\n"
     ]
    }
   ],
   "source": [
    "import cohere\n",
    "import os\n",
    "from dotenv import load_dotenv\n",
    "\n",
    "# 環境変数からAPIキーを読み込み\n",
    "load_dotenv()\n",
    "\n",
    "# Cohereクライアント初期化\n",
    "co = cohere.Client(os.environ[\"COHERE_API_KEY\"])\n",
    "\n",
    "\n",
    "def build_prompt() :\n",
    "    TASK_INSTRUCTION = \"次の問いかけに対する応答を生成してください。\"\n",
    "    CHAT = \"つばめちゃんは渋谷駅から東急東横線に乗り、自由が丘駅で乗り換えました。東急大井町線の大井町方面の電車に乗り換えたとき、各駅停車に乗車すべきところ、間違えて急行に乗車してしまったことに気付きました。自由が丘の次の急行停車駅で降車し、反対方向の電車で一駅戻った駅がつばめちゃんの目的地でした。目的地の駅の名前を答えてください。\"\n",
    "    lines = [TASK_INSTRUCTION, \"\"]\n",
    "    lines += [\"【問いかけ】\", CHAT]\n",
    "    return \"\\n\".join(lines)\n",
    "\n",
    "prompt = build_prompt()\n",
    "\n",
    "resp = co.chat(\n",
    "    model=\"command-r-plus-08-2024\",\n",
    "    message=prompt,          # ← messages ではなく message\n",
    "    temperature=0.5          # 任意：出力のばらつき\n",
    ")\n",
    "print(resp.text)"
   ]
  },
  {
   "cell_type": "code",
   "execution_count": null,
   "id": "2ecb257e",
   "metadata": {},
   "outputs": [],
   "source": []
  }
 ],
 "metadata": {
  "kernelspec": {
   "display_name": "cohere-py311",
   "language": "python",
   "name": "python3"
  },
  "language_info": {
   "codemirror_mode": {
    "name": "ipython",
    "version": 3
   },
   "file_extension": ".py",
   "mimetype": "text/x-python",
   "name": "python",
   "nbconvert_exporter": "python",
   "pygments_lexer": "ipython3",
   "version": "3.11.13"
  }
 },
 "nbformat": 4,
 "nbformat_minor": 5
}
