{
 "cells": [
  {
   "cell_type": "markdown",
   "id": "dd60b40b",
   "metadata": {},
   "source": [
    "# 問題\n",
    "以下の文章（夏目漱石の『吾輩は猫である』の冒頭部分）のトークン数を計測せよ。"
   ]
  },
  {
   "cell_type": "code",
   "execution_count": 6,
   "id": "b22ecf38",
   "metadata": {},
   "outputs": [
    {
     "name": "stdout",
     "output_type": "stream",
     "text": [
      "この文章には 112 個のトークンがあります。\n"
     ]
    }
   ],
   "source": [
    "import cohere\n",
    "import os\n",
    "from dotenv import load_dotenv\n",
    "\n",
    "# 環境変数からAPIキーを読み込み\n",
    "load_dotenv()\n",
    "\n",
    "# Cohereクライアント初期化\n",
    "co = cohere.Client(os.environ[\"COHERE_API_KEY\"])\n",
    "\n",
    "\n",
    "prompt = \"# 指示\\n以下の文章（夏目漱石の『吾輩は猫である』の冒頭部分）のトークン数を計測せよ。\\n# 文章\\n吾輩は猫である。名前はまだ無い。どこで生れたかとんと見当がつかぬ。何でも薄暗いじめじめした所でニャーニャー泣いていた事だけは記憶している。吾輩はここで始めて人間というものを見た。しかもあとで聞くとそれは書生という人間中で一番獰悪な種族であったそうだ。この書生というのは時々我々を捕えて煮て食うという話である。しかしその当時は何という考もなかったから別段恐しいとも思わなかった。ただ彼の掌に載せられてスーと持ち上げられた時何だかフワフワした感じがあったばかりである。掌の上で少し落ちついて書生の顔を見たのがいわゆる人間というものの見始であろう。この時妙なものだと思った感じが今でも残っている。第一毛をもって装飾されべきはずの顔がつるつるしてまるで薬缶だ。その後猫にもだいぶ逢ったがこんな片輪には一度も出会わした事がない。のみならず顔の真中があまりに突起している。そうしてその穴の中から時々ぷうぷうと煙を吹く。どうも咽せぽくて実に弱った。これが人間の飲む煙草というものである事はようやくこの頃知った。\"\n",
    "\n",
    "resp = co.chat(\n",
    "    model=\"command-r-plus-08-2024\",\n",
    "    message=prompt,          # ← messages ではなく message\n",
    "    temperature=0       # 任意：出力のばらつき\n",
    ")\n",
    "print(resp.text)"
   ]
  },
  {
   "cell_type": "code",
   "execution_count": 4,
   "id": "d4277ad8",
   "metadata": {},
   "outputs": [
    {
     "name": "stdout",
     "output_type": "stream",
     "text": [
      "トークン数: 294\n"
     ]
    }
   ],
   "source": [
    "import MeCab, unidic_lite\n",
    "\n",
    "text = \"吾輩は猫である。名前はまだ無い。どこで生れたかとんと見当がつかぬ。何でも薄暗いじめじめした所でニャーニャー泣いていた事だけは記憶している。吾輩はここで始めて人間というものを見た。しかもあとで聞くとそれは書生という人間中で一番獰悪な種族であったそうだ。この書生というのは時々我々を捕えて煮て食うという話である。しかしその当時は何という考もなかったから別段恐しいとも思わなかった。ただ彼の掌に載せられてスーと持ち上げられた時何だかフワフワした感じがあったばかりである。掌の上で少し落ちついて書生の顔を見たのがいわゆる人間というものの見始であろう。この時妙なものだと思った感じが今でも残っている。第一毛をもって装飾されべきはずの顔がつるつるしてまるで薬缶だ。その後猫にもだいぶ逢ったがこんな片輪には一度も出会わした事がない。のみならず顔の真中があまりに突起している。そうしてその穴の中から時々ぷうぷうと煙を吹く。どうも咽せぽくて実に弱った。これが人間の飲む煙草というものである事はようやくこの頃知った。\"\n",
    "\n",
    "# unidic_lite を明示\n",
    "mecab = MeCab.Tagger(f\"-d {unidic_lite.DICDIR} -Owakati\")\n",
    "wakati = mecab.parse(text).strip()          # 空白区切りのトークン列\n",
    "tokens = wakati.split()\n",
    "\n",
    "print(\"トークン数:\", len(tokens))\n",
    "# 必要なら print(tokens) で中身も確認"
   ]
  }
 ],
 "metadata": {
  "kernelspec": {
   "display_name": "cohere-py311",
   "language": "python",
   "name": "python3"
  },
  "language_info": {
   "codemirror_mode": {
    "name": "ipython",
    "version": 3
   },
   "file_extension": ".py",
   "mimetype": "text/x-python",
   "name": "python",
   "nbconvert_exporter": "python",
   "pygments_lexer": "ipython3",
   "version": "3.11.13"
  }
 },
 "nbformat": 4,
 "nbformat_minor": 5
}
