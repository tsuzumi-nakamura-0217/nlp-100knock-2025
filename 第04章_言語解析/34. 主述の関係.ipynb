{
 "cells": [
  {
   "cell_type": "markdown",
   "id": "b27b3c25",
   "metadata": {},
   "source": [
    "# 問題\n",
    "文章textにおいて、「メロス」が主語であるときの述語を抽出せよ。"
   ]
  },
  {
   "cell_type": "code",
   "execution_count": null,
   "id": "73de1088",
   "metadata": {},
   "outputs": [
    {
     "name": "stdout",
     "output_type": "stream",
     "text": [
      "メロス <- 激怒 (nsubj)\n",
      "メロス <- 牧人 (nsubj)\n"
     ]
    }
   ],
   "source": [
    "import spacy\n",
    "import re\n",
    "\n",
    "nlp = spacy.load(\"ja_ginza\")\n",
    "\n",
    "def analyze_SV(text):\n",
    "  doc = nlp(text)\n",
    "  for token in doc:\n",
    "    if token.text == \"メロス\" and token.dep_ == \"nsubj\":\n",
    "      print(f\"{token.text} <- {token.head.text} ({token.dep_})\")\n",
    "\n",
    "# テスト用のテキスト\n",
    "text = \"\"\"メロスは激怒した。\n",
    "必ず、かの邪智暴虐の王を除かなければならぬと決意した。\n",
    "メロスには政治がわからぬ。\n",
    "メロスは、村の牧人である。\n",
    "笛を吹き、羊と遊んで暮して来た。\n",
    "けれども邪悪に対しては、人一倍に敏感であった。\"\"\"\n",
    "\n",
    "text = re.sub(r'\\n', \"\", text)\n",
    "# 係り受け解析を実行\n",
    "analyze_SV(text)"
   ]
  }
 ],
 "metadata": {
  "kernelspec": {
   "display_name": "base",
   "language": "python",
   "name": "python3"
  },
  "language_info": {
   "codemirror_mode": {
    "name": "ipython",
    "version": 3
   },
   "file_extension": ".py",
   "mimetype": "text/x-python",
   "name": "python",
   "nbconvert_exporter": "python",
   "pygments_lexer": "ipython3",
   "version": "3.11.11"
  }
 },
 "nbformat": 4,
 "nbformat_minor": 5
}
