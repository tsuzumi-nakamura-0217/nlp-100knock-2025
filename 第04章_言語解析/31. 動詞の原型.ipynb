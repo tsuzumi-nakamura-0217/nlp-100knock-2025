{
 "cells": [
  {
   "cell_type": "markdown",
   "id": "ee50d98c",
   "metadata": {},
   "source": [
    "# 問題\n",
    "文章textに含まれる動詞と、その原型をすべて表示せよ。"
   ]
  },
  {
   "cell_type": "code",
   "execution_count": 2,
   "id": "6032a85e",
   "metadata": {},
   "outputs": [
    {
     "name": "stdout",
     "output_type": "stream",
     "text": [
      "{'し': 'する', '除か': '除く', 'なら': 'なる', 'わから': 'わかる', '吹き': '吹く', '遊ん': '遊ぶ', '暮し': '暮す', '来': '来る'}\n"
     ]
    }
   ],
   "source": [
    "from janome.tokenizer import Tokenizer\n",
    "\n",
    "t = Tokenizer()\n",
    "\n",
    "text = \"\"\"\n",
    "メロスは激怒した。\n",
    "必ず、かの邪智暴虐の王を除かなければならぬと決意した。\n",
    "メロスには政治がわからぬ。\n",
    "メロスは、村の牧人である。\n",
    "笛を吹き、羊と遊んで暮して来た。\n",
    "けれども邪悪に対しては、人一倍に敏感であった。\n",
    "\"\"\"\n",
    "\n",
    "dict = {}\n",
    "for token in t.tokenize(text):\n",
    "  if token.part_of_speech.split(',')[0] == \"動詞\":\n",
    "    dict[token.surface] = token.base_form\n",
    "\n",
    "print(dict)"
   ]
  }
 ],
 "metadata": {
  "kernelspec": {
   "display_name": "base",
   "language": "python",
   "name": "python3"
  },
  "language_info": {
   "codemirror_mode": {
    "name": "ipython",
    "version": 3
   },
   "file_extension": ".py",
   "mimetype": "text/x-python",
   "name": "python",
   "nbconvert_exporter": "python",
   "pygments_lexer": "ipython3",
   "version": "3.11.11"
  }
 },
 "nbformat": 4,
 "nbformat_minor": 5
}
