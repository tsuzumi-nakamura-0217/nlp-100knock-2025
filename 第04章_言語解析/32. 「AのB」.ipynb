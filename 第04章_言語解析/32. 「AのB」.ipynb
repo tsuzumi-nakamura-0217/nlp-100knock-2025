{
 "cells": [
  {
   "cell_type": "markdown",
   "id": "eb811dfa",
   "metadata": {},
   "source": [
    "# 問題\n",
    "文章textにおいて、2つの名詞が「の」で連結されている名詞句をすべて抽出せよ。"
   ]
  },
  {
   "cell_type": "code",
   "execution_count": 10,
   "id": "5e3f450e",
   "metadata": {},
   "outputs": [
    {
     "data": {
      "text/plain": [
       "['暴虐の王', '村の牧人']"
      ]
     },
     "execution_count": 10,
     "metadata": {},
     "output_type": "execute_result"
    }
   ],
   "source": [
    "from janome.tokenizer import Tokenizer\n",
    "import re\n",
    "\n",
    "t = Tokenizer()\n",
    "\n",
    "text = \"\"\"\n",
    "メロスは激怒した。\n",
    "必ず、かの邪智暴虐の王を除かなければならぬと決意した。\n",
    "メロスには政治がわからぬ。\n",
    "メロスは、村の牧人である。\n",
    "笛を吹き、羊と遊んで暮して来た。\n",
    "けれども邪悪に対しては、人一倍に敏感であった。\n",
    "\"\"\"\n",
    "text = re.sub(r\"\\n\", \"\", text)\n",
    "word_list = list(t.tokenize(text))\n",
    "result = []\n",
    "for i in range(len(word_list)-2):\n",
    "  if word_list[i].part_of_speech.split(',')[0] == \"名詞\" and word_list[i+2].part_of_speech.split(',')[0] == \"名詞\":\n",
    "    if word_list[i+1].surface == \"の\":\n",
    "      s = f\"{word_list[i].surface}{word_list[i+1].surface}{word_list[i+2].surface}\"\n",
    "      result.append(s)\n",
    "\n",
    "result\n"
   ]
  }
 ],
 "metadata": {
  "kernelspec": {
   "display_name": "base",
   "language": "python",
   "name": "python3"
  },
  "language_info": {
   "codemirror_mode": {
    "name": "ipython",
    "version": 3
   },
   "file_extension": ".py",
   "mimetype": "text/x-python",
   "name": "python",
   "nbconvert_exporter": "python",
   "pygments_lexer": "ipython3",
   "version": "3.11.11"
  }
 },
 "nbformat": 4,
 "nbformat_minor": 5
}
