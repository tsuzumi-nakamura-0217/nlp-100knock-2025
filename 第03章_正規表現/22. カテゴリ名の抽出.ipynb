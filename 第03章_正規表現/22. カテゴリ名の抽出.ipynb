{
 "cells": [
  {
   "cell_type": "markdown",
   "id": "8601be32",
   "metadata": {},
   "source": [
    "# 問題\n",
    "記事のカテゴリ名を（行単位ではなく名前で）抽出せよ。"
   ]
  },
  {
   "cell_type": "code",
   "execution_count": 1,
   "id": "a155ca66",
   "metadata": {},
   "outputs": [],
   "source": [
    "import pandas as pd\n",
    "\n",
    "df = pd.read_json(\"Jawiki Country.json.gz\", lines=True)\n",
    "uk_text = df.query('title==\"イギリス\"')[\"text\"].values[0]"
   ]
  },
  {
   "cell_type": "code",
   "execution_count": null,
   "id": "16223564",
   "metadata": {},
   "outputs": [
    {
     "name": "stdout",
     "output_type": "stream",
     "text": [
      "[]\n"
     ]
    }
   ],
   "source": [
    "import re\n",
    "\n",
    "# Category: または カテゴリ: に対応し、カテゴリ名だけをキャプチャ\n",
    "pattern = r'^\\s*\\[\\[(?:Category|カテゴリ):\\s*([^|\\]]+?)\\s*(?:\\|[^]]*)?\\]\\]\\s*$'\n",
    "result = re.findall(pattern, uk_text, flags=re.MULTILINE)\n",
    "\n",
    "print(result)"
   ]
  },
  {
   "cell_type": "code",
   "execution_count": 12,
   "id": "ab6b2ff3",
   "metadata": {},
   "outputs": [
    {
     "name": "stdout",
     "output_type": "stream",
     "text": [
      "[('Category', 'イギリス'), ('Category', 'イギリス連邦加盟国'), ('Category', '英連邦王国'), ('Category', 'G8加盟国'), ('Category', '欧州連合加盟国'), ('Category', '海洋国家'), ('Category', '現存する君主国'), ('Category', '島国'), ('Category', '1801年に成立した国家・領域')]\n"
     ]
    }
   ],
   "source": [
    "# ?:なしだと、、、グループ化で表示される。つまり、?:をつけるとグループ化で表示されなくなる\n",
    "pattern = r'^\\s*\\[\\[(Category|カテゴリ):\\s*([^|\\]]+?)\\s*(?:\\|[^]]*)?\\]\\]\\s*$'\n",
    "result = re.findall(pattern, uk_text, flags=re.MULTILINE)\n",
    "\n",
    "print(result)"
   ]
  },
  {
   "cell_type": "markdown",
   "id": "10a4c20f",
   "metadata": {},
   "source": [
    "1.\t^\n",
    "行頭アンカー。「この行の先頭からマッチ開始」。re.MULTILINEで各行に適用。\n",
    "\t2.\t\\s*\n",
    "行頭の空白（スペースやタブ）があってもOKにする緩衝材。\n",
    "\t3.\t\\[\\[\n",
    "文字通りの [[。角括弧は正規表現で特別記号なので \\[ とエスケープ。\n",
    "\t4.\t(?:Category|カテゴリ):\n",
    "非キャプチャグループ。\n",
    "英語名空間 Category: と日本語名空間 カテゴリ: のどちらでもOKにする。\n",
    "（?: は「グループ化するが結果に残さない」= 戻り値に要らないから）\n",
    "\t5.\t\\s*\n",
    "コロンの後に入るかもしれない空白を許容（[[Category:  英国]] など）。\n",
    "\t6.\t([^|\\]]+?)  ← ★ここがカテゴリ名だけ\n",
    "\n",
    "\t•\t(...) はキャプチャグループ（ここが戻り値になる）。\n",
    "\t•\t[^|\\]]+ は否定文字クラス：「| と ] 以外の文字」を1文字以上。\n",
    "→ つまり | または ]] が来る直前までをスパッと取る。\n",
    "\t•\t+? は最短一致（この否定クラスでは実質的に + と同じ効果。過剰取得防止の保険）。\n",
    "\n",
    "例\n",
    "[[Category:英国]] → キャプチャ = 英国\n",
    "[[Category:ヨーロッパの国|Europe]] → キャプチャ = ヨーロッパの国\n",
    "\n",
    "\t7.\t\\s*\n",
    "カテゴリ名末尾の余分な空白を吸収。\n",
    "\t8.\t(?:\\|[^]]*)?\n",
    "非キャプチャ。任意の後置部（あってもなくてもOK）。\n",
    "\n",
    "\t•\t\\| で文字通りの |。\n",
    "\t•\t[^]]* は ] 以外を0回以上 → ]] が来るまで全部スキップ。\n",
    "→ ソートキー/表示名（例：|*, |United Kingdom）を“読み飛ばす”役。\n",
    "\n",
    "\t9.\t\\]\\]\n",
    "文字通りの ]] でカテゴリ宣言を閉じる。\n",
    "\t10.\t\\s*$\n",
    "行末の空白を許容しつつ、行末で終わることを要求。"
   ]
  },
  {
   "cell_type": "markdown",
   "id": "66fd3aa8",
   "metadata": {},
   "source": []
  }
 ],
 "metadata": {
  "kernelspec": {
   "display_name": "base",
   "language": "python",
   "name": "python3"
  },
  "language_info": {
   "codemirror_mode": {
    "name": "ipython",
    "version": 3
   },
   "file_extension": ".py",
   "mimetype": "text/x-python",
   "name": "python",
   "nbconvert_exporter": "python",
   "pygments_lexer": "ipython3",
   "version": "3.11.11"
  }
 },
 "nbformat": 4,
 "nbformat_minor": 5
}
