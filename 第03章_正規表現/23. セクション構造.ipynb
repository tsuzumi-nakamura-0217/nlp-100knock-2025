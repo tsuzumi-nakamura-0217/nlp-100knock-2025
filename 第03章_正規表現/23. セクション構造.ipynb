{
 "cells": [
  {
   "cell_type": "markdown",
   "id": "33f5aec2",
   "metadata": {},
   "source": [
    "# 問題\n",
    "記事中に含まれるセクション名とそのレベル（例えば”== セクション名 ==”なら1）を表示せよ。"
   ]
  },
  {
   "cell_type": "code",
   "execution_count": 2,
   "id": "9f77bb34",
   "metadata": {},
   "outputs": [],
   "source": [
    "import pandas as pd\n",
    "import re\n",
    "\n",
    "df = pd.read_json(\"Jawiki Country.json.gz\", lines=True)\n",
    "uk_text = df.query('title==\"イギリス\"')[\"text\"].values[0]"
   ]
  },
  {
   "cell_type": "code",
   "execution_count": null,
   "id": "35e4c878",
   "metadata": {},
   "outputs": [
    {
     "name": "stdout",
     "output_type": "stream",
     "text": [
      "2 国名\n",
      "2 歴史\n",
      "2 地理\n",
      "3 主要都市\n",
      "3 気候\n",
      "2 政治\n",
      "3 元首\n",
      "3 法\n",
      "3 内政\n",
      "3 地方行政区分\n",
      "3 外交・軍事\n",
      "2 経済\n",
      "3 鉱業\n",
      "3 農業\n",
      "3 貿易\n",
      "3 不動産\n",
      "3 エネルギー政策\n",
      "3 通貨\n",
      "3 企業\n",
      "4 通信\n",
      "2 交通\n",
      "3 道路\n",
      "3 鉄道\n",
      "3 海運\n",
      "3 航空\n",
      "2 科学技術\n",
      "2 国民\n",
      "3 言語\n",
      "3 宗教\n",
      "3 婚姻\n",
      "3 移住\n",
      "3 教育\n",
      "3 医療\n",
      "2 文化\n",
      "3 食文化\n",
      "3 文学\n",
      "3 哲学\n",
      "3 音楽\n",
      "4 ポピュラー音楽\n",
      "3 映画\n",
      "3 コメディ\n",
      "3 国花\n",
      "3 世界遺産\n",
      "3 祝祭日\n",
      "3 スポーツ\n",
      "4 サッカー\n",
      "4 クリケット\n",
      "4 競馬\n",
      "4 モータースポーツ\n",
      "4 野球\n",
      "4 カーリング\n",
      "4 自転車競技\n",
      "2 脚注\n",
      "2 関連項目\n",
      "2 外部リンク\n"
     ]
    }
   ],
   "source": [
    "pattern = r'^\\s*(=+)\\s*(.*?)\\s*\\1\\s*$'\n",
    "\n",
    "for m in re.finditer(pattern, uk_text, flags=re.MULTILINE):\n",
    "  eq_count = len(m.group(1))\n",
    "  heading = m.group(2).strip()\n",
    "  print(eq_count, heading)"
   ]
  },
  {
   "cell_type": "code",
   "execution_count": null,
   "id": "0ad67a4d",
   "metadata": {},
   "outputs": [],
   "source": []
  }
 ],
 "metadata": {
  "kernelspec": {
   "display_name": "base",
   "language": "python",
   "name": "python3"
  },
  "language_info": {
   "codemirror_mode": {
    "name": "ipython",
    "version": 3
   },
   "file_extension": ".py",
   "mimetype": "text/x-python",
   "name": "python",
   "nbconvert_exporter": "python",
   "pygments_lexer": "ipython3",
   "version": "3.11.11"
  }
 },
 "nbformat": 4,
 "nbformat_minor": 5
}
